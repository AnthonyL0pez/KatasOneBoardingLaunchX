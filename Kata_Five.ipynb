{
 "cells": [
  {
   "cell_type": "markdown",
   "metadata": {},
   "source": [
    "## Operadores Aritmeticos"
   ]
  },
  {
   "cell_type": "code",
   "execution_count": 2,
   "metadata": {},
   "outputs": [],
   "source": [
    "Tierra = 149597870 \n",
    "Jupiter = 778547200"
   ]
  },
  {
   "cell_type": "code",
   "execution_count": 19,
   "metadata": {},
   "outputs": [
    {
     "name": "stdout",
     "output_type": "stream",
     "text": [
      "628949330 390577534\n"
     ]
    }
   ],
   "source": [
    "distancia_planetas =  Jupiter - Tierra\n",
    "millas = distancia_planetas * 0.621\n",
    "\n",
    "print(abs(distancia_planetas), round(millas) )\n"
   ]
  },
  {
   "cell_type": "markdown",
   "metadata": {},
   "source": [
    "## Cadenas en numeros y valores absolutos"
   ]
  },
  {
   "cell_type": "code",
   "execution_count": 43,
   "metadata": {},
   "outputs": [],
   "source": [
    "distancia_planeta_one = input(\"¿Cual es la distancia del Planeta 1?\")\n",
    "distancia_planeta_two = input(\"¿Cual es la distancia del Planeta 2?\")\n"
   ]
  },
  {
   "cell_type": "code",
   "execution_count": 44,
   "metadata": {},
   "outputs": [],
   "source": [
    "distancia_planeta_one = int(distancia_planeta_one)\n",
    "distancia_planeta_two = int(distancia_planeta_two)\n"
   ]
  },
  {
   "cell_type": "code",
   "execution_count": 46,
   "metadata": {},
   "outputs": [
    {
     "name": "stdout",
     "output_type": "stream",
     "text": [
      "50300000\n",
      "31236300.0\n"
     ]
    }
   ],
   "source": [
    "ditancia_final_one_two = distancia_planeta_one - distancia_planeta_two\n",
    "print(abs(ditancia_final_one_two))\n",
    "distancia_final_millas = ditancia_final_one_two*0.621\n",
    "print(abs(distancia_final_millas))"
   ]
  }
 ],
 "metadata": {
  "interpreter": {
   "hash": "78ee91b5be619da15cad069e33341a74cea9ba0a74eef67c2b51f09e89cb82fe"
  },
  "kernelspec": {
   "display_name": "Python 3.10.2 64-bit",
   "language": "python",
   "name": "python3"
  },
  "language_info": {
   "codemirror_mode": {
    "name": "ipython",
    "version": 3
   },
   "file_extension": ".py",
   "mimetype": "text/x-python",
   "name": "python",
   "nbconvert_exporter": "python",
   "pygments_lexer": "ipython3",
   "version": "3.10.2"
  },
  "orig_nbformat": 4
 },
 "nbformat": 4,
 "nbformat_minor": 2
}
