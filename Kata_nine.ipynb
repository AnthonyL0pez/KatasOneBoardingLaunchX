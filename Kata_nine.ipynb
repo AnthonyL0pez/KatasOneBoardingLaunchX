{
 "cells": [
  {
   "cell_type": "markdown",
   "metadata": {},
   "source": [
    "## Uso de funciones en Python"
   ]
  },
  {
   "cell_type": "code",
   "execution_count": 39,
   "metadata": {},
   "outputs": [
    {
     "data": {
      "text/plain": [
       "'Cantidad del Primer Tanque : 20\\n    Cantidad del Segundo Tanque : 14\\n    Cantidad del Tercer Tanque : 32\\n    Total de Combustible = 66\\n    '"
      ]
     },
     "execution_count": 39,
     "metadata": {},
     "output_type": "execute_result"
    }
   ],
   "source": [
    "def informe_combustible(pTanqueOne = 20, pTanqueTwo = 14, pTanqueThree = 32):\n",
    "    vTanques = {\n",
    "        'TanqueOne' : pTanqueOne,\n",
    "        'TanqueTwo' : pTanqueTwo,\n",
    "        'TanqueThree' : pTanqueThree,\n",
    "    }\n",
    "    return f\"\"\"Cantidad del Primer Tanque : {vTanques['TanqueOne']}\n",
    "    Cantidad del Segundo Tanque : {vTanques['TanqueTwo']}\n",
    "    Cantidad del Tercer Tanque : {vTanques['TanqueThree']}\n",
    "    Total de Combustible = {vTanques['TanqueOne']+vTanques['TanqueTwo']+vTanques['TanqueThree']}\n",
    "    \"\"\"\n",
    "informe_combustible()"
   ]
  },
  {
   "cell_type": "code",
   "execution_count": 41,
   "metadata": {},
   "outputs": [],
   "source": [
    "\n",
    "def promedio_combustible(vInforme):\n",
    "    vSumaTanques = 0\n",
    "    vCountTanques = len(vInforme.keys())\n",
    "\n",
    "    for values in vInforme.values():\n",
    "        vSumaTanques += values\n",
    "    return vSumaTanques / vCountTanques\n",
    "\n",
    "\n",
    "    "
   ]
  },
  {
   "cell_type": "code",
   "execution_count": 45,
   "metadata": {},
   "outputs": [
    {
     "name": "stdout",
     "output_type": "stream",
     "text": [
      "Cantidad del Primer Tanque : 78\n",
      "    Cantidad del Segundo Tanque : 23\n",
      "    Cantidad del Tercer Tanque : 32\n",
      "    Total de Combustible = 44.333333333333336\n",
      "    \n"
     ]
    }
   ],
   "source": [
    "def informe_combustible(pTanqueOne = 20, pTanqueTwo = 14, pTanqueThree = 32):\n",
    "    vTanques = {\n",
    "        'TanqueOne' : pTanqueOne,\n",
    "        'TanqueTwo' : pTanqueTwo,\n",
    "        'TanqueThree' : pTanqueThree,\n",
    "    }\n",
    "    return f\"\"\"Cantidad del Primer Tanque : {vTanques['TanqueOne']}\n",
    "    Cantidad del Segundo Tanque : {vTanques['TanqueTwo']}\n",
    "    Cantidad del Tercer Tanque : {vTanques['TanqueThree']}\n",
    "    Total de Combustible = {promedio_combustible(vTanques)}\n",
    "    \"\"\"\n",
    "\n",
    "print(informe_combustible(78,23,32))"
   ]
  },
  {
   "cell_type": "markdown",
   "metadata": {},
   "source": [
    "## Trabajo con argumentos de palabras clave en funciones"
   ]
  },
  {
   "cell_type": "code",
   "execution_count": 53,
   "metadata": {},
   "outputs": [
    {
     "name": "stdout",
     "output_type": "stream",
     "text": [
      "Prelanzamiento = 2\n",
      "    Tiempo del Vuelo = 10\n",
      "    Destino = Moon\n",
      "    Tanque Externo = 900\n",
      "    Tanque Interno = 500\n"
     ]
    }
   ],
   "source": [
    "def informe_mision(prelanzamiento,tiempo_vuelo,destino,tanque_externo,tanque_interno) :\n",
    "    return f\"\"\"Prelanzamiento = {prelanzamiento}\n",
    "    Tiempo del Vuelo = {tiempo_vuelo}\n",
    "    Destino = {destino}\n",
    "    Tanque Externo = {tanque_externo}\n",
    "    Tanque Interno = {tanque_interno}\"\"\"   \n",
    "    \n",
    "print(informe_mision(2,10,'Moon',900,500))\n"
   ]
  },
  {
   "cell_type": "code",
   "execution_count": 54,
   "metadata": {},
   "outputs": [
    {
     "name": "stdout",
     "output_type": "stream",
     "text": [
      "\n",
      "    Destino = Moon\n",
      "    Tiempo del Vuelo = 12\n",
      "    Total de Tanques = 1400\n"
     ]
    }
   ],
   "source": [
    "def informe_mision(destino,*tiempos,**tanques) :\n",
    "    return f\"\"\"\n",
    "    Destino = {destino}\n",
    "    Tiempo del Vuelo = {sum(tiempos)}\n",
    "    Total de Tanques = {sum(tanques.values())}\"\"\"   \n",
    "    \n",
    "print(informe_mision('Moon',2,10,interno = 900, externo = 500))"
   ]
  },
  {
   "cell_type": "code",
   "execution_count": 95,
   "metadata": {},
   "outputs": [
    {
     "name": "stdout",
     "output_type": "stream",
     "text": [
      "\n",
      "    Destino = Moon\n",
      "    Tiempo del Vuelo = 12\n",
      "    Total de Tanques = 1400 \n",
      "Tanque : interno \n",
      "        Capacidad : 900Tanque : externo \n",
      "        Capacidad : 500\n"
     ]
    }
   ],
   "source": [
    "def informe_mision(destino,*tiempos,**tanques) :\n",
    "    tanque_detalle = \"\"\n",
    "    informe = f\"\"\"\n",
    "    Destino = {destino}\n",
    "    Tiempo del Vuelo = {sum(tiempos)}\n",
    "    Total de Tanques = {sum(tanques.values())} \"\"\"   \n",
    "    \n",
    "    for tanque,capacidad in tanques.items():\n",
    "        tanque_detalle +=  f\"\"\"Tanque : {tanque} \n",
    "        Capacidad : {capacidad}\"\"\"  \n",
    "              \n",
    "    return informe + '\\n' + tanque_detalle\n",
    "\n",
    "print(informe_mision('Moon',2,10,interno = 900, externo = 500))"
   ]
  }
 ],
 "metadata": {
  "interpreter": {
   "hash": "78ee91b5be619da15cad069e33341a74cea9ba0a74eef67c2b51f09e89cb82fe"
  },
  "kernelspec": {
   "display_name": "Python 3.10.2 64-bit",
   "language": "python",
   "name": "python3"
  },
  "language_info": {
   "codemirror_mode": {
    "name": "ipython",
    "version": 3
   },
   "file_extension": ".py",
   "mimetype": "text/x-python",
   "name": "python",
   "nbconvert_exporter": "python",
   "pygments_lexer": "ipython3",
   "version": "3.10.2"
  },
  "orig_nbformat": 4
 },
 "nbformat": 4,
 "nbformat_minor": 2
}
