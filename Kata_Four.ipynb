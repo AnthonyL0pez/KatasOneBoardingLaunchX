{
 "cells": [
  {
   "cell_type": "markdown",
   "metadata": {},
   "source": [
    "## Transformar Cadenas"
   ]
  },
  {
   "cell_type": "code",
   "execution_count": 5,
   "metadata": {},
   "outputs": [
    {
     "data": {
      "text/plain": [
       "['Interesting facts about the Moon',\n",
       " \" The Moon is Earth's only satellite\",\n",
       " ' There are several interesting facts about the Moon and how it affects life here on Earth',\n",
       " 'On average, the Moon moves 4cm away from the Earth every year',\n",
       " ' This yearly drift is not significant enough to cause immediate effects on Earth',\n",
       " ' The highest daylight temperature of the Moon is 127 C',\n",
       " '']"
      ]
     },
     "execution_count": 5,
     "metadata": {},
     "output_type": "execute_result"
    }
   ],
   "source": [
    "text = \"\"\"Interesting facts about the Moon. The Moon is Earth's only satellite. There are several interesting facts about the Moon and how it affects life here on Earth.On average, the Moon moves 4cm away from the Earth every year. This yearly drift is not significant enough to cause immediate effects on Earth. The highest daylight temperature of the Moon is 127 C.\"\"\"\n",
    "\n",
    "text_split = text.split('.')\n",
    "text_split\n"
   ]
  },
  {
   "cell_type": "code",
   "execution_count": 6,
   "metadata": {},
   "outputs": [
    {
     "name": "stdout",
     "output_type": "stream",
     "text": [
      "Oracion 1 : Interesting facts about the Moon\n",
      "Oracion 2 :  The Moon is Earth's only satellite\n",
      "Oracion 3 :  There are several interesting facts about the Moon and how it affects life here on Earth\n",
      "Oracion 4 : On average, the Moon moves 4cm away from the Earth every year\n",
      "Relacion con Luna : average\n",
      "Oracion 5 :  This yearly drift is not significant enough to cause immediate effects on Earth\n",
      "Oracion 6 :  The highest daylight temperature of the Moon is 127 C\n",
      "Relacion con Luna : temperature\n",
      "Oracion 7 : \n"
     ]
    }
   ],
   "source": [
    "#text = \"\"\"Interesting facts about the Moon. The Moon is Earth's only satellite. There are several interesting facts about the Moon and how it affects life here on Earth.On average, the Moon moves 4cm away from the Earth every year. This yearly drift is not significant enough to cause immediate effects on Earth. The highest daylight temperature of the Moon is 127 C.\"\"\"\n",
    "\n",
    "#text_split = text.split('.')\n",
    "words = ['average','temperature','distance']\n",
    "cont = 1\n",
    "for item in text_split :\n",
    "    print(\"Oracion \" + str(cont) + \" : \" + item)\n",
    "    for word in words :\n",
    "        item_find = item.lower().find(word)\n",
    "        if(item_find != -1) : \n",
    "            print(\"Relacion con Luna : \" + word)\n",
    "    cont = cont+1\n",
    "\n",
    "\n"
   ]
  },
  {
   "cell_type": "code",
   "execution_count": 7,
   "metadata": {},
   "outputs": [
    {
     "name": "stdout",
     "output_type": "stream",
     "text": [
      "Oracion 1 : Interesting facts about the Moon\n",
      "Oracion 2 :  The Moon is Earth's only satellite\n",
      "Oracion 3 :  There are several interesting facts about the Moon and how it affects life here on Earth\n",
      "Oracion 4 : On average, the Moon moves 4cm away from the Earth every year\n",
      "|__ : Average Relaciona con La Luna\n",
      "Oracion 5 :  This yearly drift is not significant enough to cause immediate effects on Earth\n",
      "Oracion 6 :  The highest daylight temperature of the Moon is 127 Celsius\n",
      "|__ : temperature Relaciona con La Luna\n",
      "Oracion 7 : \n"
     ]
    }
   ],
   "source": [
    "cont = 1\n",
    "for item in text_split :\n",
    "    item_replace =item.replace('C', 'Celsius')\n",
    "    print(\"Oracion \" + str(cont) + \" : \" + item_replace)\n",
    "    moon = item.lower().find('moon')\n",
    "    if(moon != -1) : \n",
    "        if (item.lower().find('average') != -1):\n",
    "            print(\"|__ : Average Relaciona con La Luna\")\n",
    "        elif(item.lower().find('temperature') != -1):\n",
    "            print(\"|__ : temperature Relaciona con La Luna\")\n",
    "        elif(item.lower().find('distance') != -1):\n",
    "            print(\"|__ : distance Relaciona con La Luna\")\n",
    "  \n",
    "    cont = cont+1"
   ]
  },
  {
   "cell_type": "markdown",
   "metadata": {},
   "source": [
    "## Formateando Cadenas"
   ]
  },
  {
   "cell_type": "code",
   "execution_count": 9,
   "metadata": {},
   "outputs": [],
   "source": [
    "planeta = 'Moon'\n",
    "gravedad = 0.00162 \n",
    "nombre = 'Earth'\n",
    "\n",
    "Text_Title = f\"Gravedad de Planetas y Stelites {nombre}\""
   ]
  },
  {
   "cell_type": "code",
   "execution_count": 10,
   "metadata": {},
   "outputs": [],
   "source": [
    "Datos = f\"\"\" Nombre del Planeta : {planeta}\n",
    "Gravedad de {nombre} : {gravedad * 1000}\"\"\"\n",
    "\n"
   ]
  },
  {
   "cell_type": "code",
   "execution_count": 11,
   "metadata": {},
   "outputs": [
    {
     "name": "stdout",
     "output_type": "stream",
     "text": [
      " Nombre del Planeta : Moon\n",
      "Gravedad de Earth : 1.6199999999999999\n"
     ]
    }
   ],
   "source": [
    "Plantilla = f\"\"\"{Text_Title.title()}\n",
    "{Datos} \"\"\"\n"
   ]
  },
  {
   "cell_type": "code",
   "execution_count": 13,
   "metadata": {},
   "outputs": [],
   "source": [
    "planeta = 'Marte '\n",
    "gravedad  = 0.00143\n",
    "nombre = 'Ganímedes'\n"
   ]
  },
  {
   "cell_type": "code",
   "execution_count": 15,
   "metadata": {},
   "outputs": [
    {
     "name": "stdout",
     "output_type": "stream",
     "text": [
      "\n",
      "Datos de Gravedad : Ganímedes\n",
      "-------------------------------------------------------------------------------\n",
      "Nombre del Planeta : Marte \n",
      "Gravedad Ganímedes : 0.00143\n",
      "\n"
     ]
    }
   ],
   "source": [
    "Plantilla_two = \"\"\"\n",
    "Datos de Gravedad : {nombre}\n",
    "-------------------------------------------------------------------------------\n",
    "Nombre del Planeta : {planeta}\n",
    "Gravedad {nombre} : {gravedad}\n",
    "\"\"\"\n",
    "print(Plantilla_two.format(nombre=nombre, planeta =planeta,gravedad=gravedad))\n"
   ]
  },
  {
   "cell_type": "code",
   "execution_count": 16,
   "metadata": {},
   "outputs": [
    {
     "name": "stdout",
     "output_type": "stream",
     "text": [
      "\n",
      "Datos de Gravedad : Ganímedes\n",
      "-------------------------------------------------------------------------------\n",
      "Nombre del Planeta : Marte \n",
      "Gravedad Ganímedes : 1.4300000000000002\n",
      "\n"
     ]
    }
   ],
   "source": [
    "print(Plantilla_two.format(nombre=nombre, planeta=planeta,gravedad=(gravedad * 1000)))"
   ]
  }
 ],
 "metadata": {
  "interpreter": {
   "hash": "78ee91b5be619da15cad069e33341a74cea9ba0a74eef67c2b51f09e89cb82fe"
  },
  "kernelspec": {
   "display_name": "Python 3.10.2 64-bit",
   "language": "python",
   "name": "python3"
  },
  "language_info": {
   "codemirror_mode": {
    "name": "ipython",
    "version": 3
   },
   "file_extension": ".py",
   "mimetype": "text/x-python",
   "name": "python",
   "nbconvert_exporter": "python",
   "pygments_lexer": "ipython3",
   "version": "3.10.2"
  },
  "orig_nbformat": 4
 },
 "nbformat": 4,
 "nbformat_minor": 2
}
