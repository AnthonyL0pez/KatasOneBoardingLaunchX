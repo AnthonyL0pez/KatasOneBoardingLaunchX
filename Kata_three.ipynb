{
 "cells": [
  {
   "cell_type": "markdown",
   "metadata": {},
   "source": [
    "## Declaraciones if, else y elif"
   ]
  },
  {
   "cell_type": "code",
   "execution_count": 73,
   "metadata": {},
   "outputs": [
    {
     "name": "stdout",
     "output_type": "stream",
     "text": [
      "Todo esta Bajo Control\n"
     ]
    }
   ],
   "source": [
    "\n",
    "velocidad_asteroide = 21\n",
    "\n",
    "if velocidad_asteroide > 25 : \n",
    "    print(\"Alerta a la Tierra, Ateroide Acercandose\")\n",
    "else:\n",
    "    print(\"Todo esta Bajo Control\")\n"
   ]
  },
  {
   "cell_type": "code",
   "execution_count": 3,
   "metadata": {},
   "outputs": [
    {
     "name": "stdout",
     "output_type": "stream",
     "text": [
      "Detectando Rayo de Luz Visible para los Humanos\n"
     ]
    }
   ],
   "source": [
    "velocidad_asteroide = 32\n",
    "\n",
    "if velocidad_asteroide >= 20 : \n",
    "    print(\"Detectando Rayo de Luz Visible para los Humanos\")\n",
    "elif velocidad_asteroide < 20 : \n",
    "    print(\"Hasta el momento no detetamos ningun Rayo de Luz\")\n",
    "else:\n",
    "    print(\"Por el momento no hay Ninguna Advertencia\")\n",
    "\n"
   ]
  },
  {
   "cell_type": "markdown",
   "metadata": {},
   "source": [
    "## Uso de operadores and y or"
   ]
  },
  {
   "cell_type": "code",
   "execution_count": 8,
   "metadata": {},
   "outputs": [
    {
     "name": "stdout",
     "output_type": "stream",
     "text": [
      "Detectando Rayo de Luz Visible para los Humanos\n"
     ]
    }
   ],
   "source": [
    "dimension_asteroide = 22\n",
    "velocidad_asteroide = 33\n",
    "\n",
    "\n",
    "if (dimension_asteroide > 25 and dimension_asteroide < 1000) and velocidad_asteroide > 25: \n",
    "    print(\"Peligro!!! Ateroide Colapasara la Tierra!!!\")\n",
    "elif velocidad_asteroide >= 20 : \n",
    "    print(\"Detectando Rayo de Luz Visible para los Humanos\")\n",
    "else:\n",
    "    print(\"Por el momento no hay Ninguna Advertencia\")\n"
   ]
  }
 ],
 "metadata": {
  "interpreter": {
   "hash": "78ee91b5be619da15cad069e33341a74cea9ba0a74eef67c2b51f09e89cb82fe"
  },
  "kernelspec": {
   "display_name": "Python 3.10.2 64-bit",
   "language": "python",
   "name": "python3"
  },
  "language_info": {
   "codemirror_mode": {
    "name": "ipython",
    "version": 3
   },
   "file_extension": ".py",
   "mimetype": "text/x-python",
   "name": "python",
   "nbconvert_exporter": "python",
   "pygments_lexer": "ipython3",
   "version": "3.10.2"
  },
  "orig_nbformat": 4
 },
 "nbformat": 4,
 "nbformat_minor": 2
}
